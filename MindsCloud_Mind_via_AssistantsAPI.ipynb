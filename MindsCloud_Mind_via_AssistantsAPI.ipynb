{
  "nbformat": 4,
  "nbformat_minor": 0,
  "metadata": {
    "colab": {
      "provenance": [],
      "include_colab_link": true
    },
    "kernelspec": {
      "name": "python3",
      "display_name": "Python 3"
    },
    "language_info": {
      "name": "python"
    }
  },
  "cells": [
    {
      "cell_type": "markdown",
      "metadata": {
        "id": "view-in-github",
        "colab_type": "text"
      },
      "source": [
        "<a href=\"https://colab.research.google.com/github/fhhjhhg/AI-Notebooks/blob/main/MindsCloud_Mind_via_AssistantsAPI.ipynb\" target=\"_parent\"><img src=\"https://colab.research.google.com/assets/colab-badge.svg\" alt=\"Open In Colab\"/></a>"
      ]
    },
    {
      "cell_type": "code",
      "source": [
        "!pip install openai\n",
        "!pip install minds_sdk"
      ],
      "metadata": {
        "colab": {
          "base_uri": "https://localhost:8080/"
        },
        "collapsed": true,
        "id": "iFcNjAij0dFU",
        "outputId": "3aaf91ae-a72b-4ca1-bbdc-aa6272c8b8e5"
      },
      "execution_count": null,
      "outputs": [
        {
          "output_type": "stream",
          "name": "stdout",
          "text": [
            "Collecting openai\n",
            "  Downloading openai-1.45.1-py3-none-any.whl.metadata (22 kB)\n",
            "Requirement already satisfied: anyio<5,>=3.5.0 in /usr/local/lib/python3.10/dist-packages (from openai) (3.7.1)\n",
            "Requirement already satisfied: distro<2,>=1.7.0 in /usr/lib/python3/dist-packages (from openai) (1.7.0)\n",
            "Collecting httpx<1,>=0.23.0 (from openai)\n",
            "  Downloading httpx-0.27.2-py3-none-any.whl.metadata (7.1 kB)\n",
            "Collecting jiter<1,>=0.4.0 (from openai)\n",
            "  Downloading jiter-0.5.0-cp310-cp310-manylinux_2_17_x86_64.manylinux2014_x86_64.whl.metadata (3.6 kB)\n",
            "Requirement already satisfied: pydantic<3,>=1.9.0 in /usr/local/lib/python3.10/dist-packages (from openai) (2.9.1)\n",
            "Requirement already satisfied: sniffio in /usr/local/lib/python3.10/dist-packages (from openai) (1.3.1)\n",
            "Requirement already satisfied: tqdm>4 in /usr/local/lib/python3.10/dist-packages (from openai) (4.66.5)\n",
            "Requirement already satisfied: typing-extensions<5,>=4.11 in /usr/local/lib/python3.10/dist-packages (from openai) (4.12.2)\n",
            "Requirement already satisfied: idna>=2.8 in /usr/local/lib/python3.10/dist-packages (from anyio<5,>=3.5.0->openai) (3.8)\n",
            "Requirement already satisfied: exceptiongroup in /usr/local/lib/python3.10/dist-packages (from anyio<5,>=3.5.0->openai) (1.2.2)\n",
            "Requirement already satisfied: certifi in /usr/local/lib/python3.10/dist-packages (from httpx<1,>=0.23.0->openai) (2024.8.30)\n",
            "Collecting httpcore==1.* (from httpx<1,>=0.23.0->openai)\n",
            "  Downloading httpcore-1.0.5-py3-none-any.whl.metadata (20 kB)\n",
            "Collecting h11<0.15,>=0.13 (from httpcore==1.*->httpx<1,>=0.23.0->openai)\n",
            "  Downloading h11-0.14.0-py3-none-any.whl.metadata (8.2 kB)\n",
            "Requirement already satisfied: annotated-types>=0.6.0 in /usr/local/lib/python3.10/dist-packages (from pydantic<3,>=1.9.0->openai) (0.7.0)\n",
            "Requirement already satisfied: pydantic-core==2.23.3 in /usr/local/lib/python3.10/dist-packages (from pydantic<3,>=1.9.0->openai) (2.23.3)\n",
            "Downloading openai-1.45.1-py3-none-any.whl (374 kB)\n",
            "\u001b[2K   \u001b[90m━━━━━━━━━━━━━━━━━━━━━━━━━━━━━━━━━━━━━━━━\u001b[0m \u001b[32m374.2/374.2 kB\u001b[0m \u001b[31m9.9 MB/s\u001b[0m eta \u001b[36m0:00:00\u001b[0m\n",
            "\u001b[?25hDownloading httpx-0.27.2-py3-none-any.whl (76 kB)\n",
            "\u001b[2K   \u001b[90m━━━━━━━━━━━━━━━━━━━━━━━━━━━━━━━━━━━━━━━━\u001b[0m \u001b[32m76.4/76.4 kB\u001b[0m \u001b[31m4.1 MB/s\u001b[0m eta \u001b[36m0:00:00\u001b[0m\n",
            "\u001b[?25hDownloading httpcore-1.0.5-py3-none-any.whl (77 kB)\n",
            "\u001b[2K   \u001b[90m━━━━━━━━━━━━━━━━━━━━━━━━━━━━━━━━━━━━━━━━\u001b[0m \u001b[32m77.9/77.9 kB\u001b[0m \u001b[31m4.6 MB/s\u001b[0m eta \u001b[36m0:00:00\u001b[0m\n",
            "\u001b[?25hDownloading jiter-0.5.0-cp310-cp310-manylinux_2_17_x86_64.manylinux2014_x86_64.whl (318 kB)\n",
            "\u001b[2K   \u001b[90m━━━━━━━━━━━━━━━━━━━━━━━━━━━━━━━━━━━━━━━━\u001b[0m \u001b[32m318.9/318.9 kB\u001b[0m \u001b[31m18.8 MB/s\u001b[0m eta \u001b[36m0:00:00\u001b[0m\n",
            "\u001b[?25hDownloading h11-0.14.0-py3-none-any.whl (58 kB)\n",
            "\u001b[2K   \u001b[90m━━━━━━━━━━━━━━━━━━━━━━━━━━━━━━━━━━━━━━━━\u001b[0m \u001b[32m58.3/58.3 kB\u001b[0m \u001b[31m2.5 MB/s\u001b[0m eta \u001b[36m0:00:00\u001b[0m\n",
            "\u001b[?25hInstalling collected packages: jiter, h11, httpcore, httpx, openai\n",
            "Successfully installed h11-0.14.0 httpcore-1.0.5 httpx-0.27.2 jiter-0.5.0 openai-1.45.1\n",
            "Collecting minds_sdk\n",
            "  Downloading minds_sdk-1.0.4.tar.gz (5.8 kB)\n",
            "  Preparing metadata (setup.py) ... \u001b[?25l\u001b[?25hdone\n",
            "Collecting pydantic==2.8.2 (from minds_sdk)\n",
            "  Downloading pydantic-2.8.2-py3-none-any.whl.metadata (125 kB)\n",
            "\u001b[2K     \u001b[90m━━━━━━━━━━━━━━━━━━━━━━━━━━━━━━━━━━━━━━━━\u001b[0m \u001b[32m125.2/125.2 kB\u001b[0m \u001b[31m3.0 MB/s\u001b[0m eta \u001b[36m0:00:00\u001b[0m\n",
            "\u001b[?25hRequirement already satisfied: requests in /usr/local/lib/python3.10/dist-packages (from minds_sdk) (2.32.3)\n",
            "Requirement already satisfied: annotated-types>=0.4.0 in /usr/local/lib/python3.10/dist-packages (from pydantic==2.8.2->minds_sdk) (0.7.0)\n",
            "Collecting pydantic-core==2.20.1 (from pydantic==2.8.2->minds_sdk)\n",
            "  Downloading pydantic_core-2.20.1-cp310-cp310-manylinux_2_17_x86_64.manylinux2014_x86_64.whl.metadata (6.6 kB)\n",
            "Requirement already satisfied: typing-extensions>=4.6.1 in /usr/local/lib/python3.10/dist-packages (from pydantic==2.8.2->minds_sdk) (4.12.2)\n",
            "Requirement already satisfied: charset-normalizer<4,>=2 in /usr/local/lib/python3.10/dist-packages (from requests->minds_sdk) (3.3.2)\n",
            "Requirement already satisfied: idna<4,>=2.5 in /usr/local/lib/python3.10/dist-packages (from requests->minds_sdk) (3.8)\n",
            "Requirement already satisfied: urllib3<3,>=1.21.1 in /usr/local/lib/python3.10/dist-packages (from requests->minds_sdk) (2.0.7)\n",
            "Requirement already satisfied: certifi>=2017.4.17 in /usr/local/lib/python3.10/dist-packages (from requests->minds_sdk) (2024.8.30)\n",
            "Downloading pydantic-2.8.2-py3-none-any.whl (423 kB)\n",
            "\u001b[2K   \u001b[90m━━━━━━━━━━━━━━━━━━━━━━━━━━━━━━━━━━━━━━━━\u001b[0m \u001b[32m423.9/423.9 kB\u001b[0m \u001b[31m13.6 MB/s\u001b[0m eta \u001b[36m0:00:00\u001b[0m\n",
            "\u001b[?25hDownloading pydantic_core-2.20.1-cp310-cp310-manylinux_2_17_x86_64.manylinux2014_x86_64.whl (2.1 MB)\n",
            "\u001b[2K   \u001b[90m━━━━━━━━━━━━━━━━━━━━━━━━━━━━━━━━━━━━━━━━\u001b[0m \u001b[32m2.1/2.1 MB\u001b[0m \u001b[31m38.2 MB/s\u001b[0m eta \u001b[36m0:00:00\u001b[0m\n",
            "\u001b[?25hBuilding wheels for collected packages: minds_sdk\n",
            "  Building wheel for minds_sdk (setup.py) ... \u001b[?25l\u001b[?25hdone\n",
            "  Created wheel for minds_sdk: filename=minds_sdk-1.0.4-py3-none-any.whl size=7081 sha256=20ffbcbe6774a00a2d138008ddd872585b0715e63ad000629be84bedfda3a93f\n",
            "  Stored in directory: /root/.cache/pip/wheels/83/20/3f/912673b73ad8b64499ac905b5497ec7eadf40cb5ccd3cc5cf4\n",
            "Successfully built minds_sdk\n",
            "Installing collected packages: pydantic-core, pydantic, minds_sdk\n",
            "  Attempting uninstall: pydantic-core\n",
            "    Found existing installation: pydantic_core 2.23.3\n",
            "    Uninstalling pydantic_core-2.23.3:\n",
            "      Successfully uninstalled pydantic_core-2.23.3\n",
            "  Attempting uninstall: pydantic\n",
            "    Found existing installation: pydantic 2.9.1\n",
            "    Uninstalling pydantic-2.9.1:\n",
            "      Successfully uninstalled pydantic-2.9.1\n",
            "Successfully installed minds_sdk-1.0.4 pydantic-2.8.2 pydantic-core-2.20.1\n"
          ]
        }
      ]
    },
    {
      "cell_type": "code",
      "execution_count": null,
      "metadata": {
        "colab": {
          "base_uri": "https://localhost:8080/"
        },
        "id": "8C5xHwCF0UQ_",
        "outputId": "955ae6cf-2ba6-481f-eb28-c49afb43131a"
      },
      "outputs": [
        {
          "output_type": "stream",
          "name": "stdout",
          "text": [
            "my_mind was created successfully. You can now use this Mind using the OpenAI-compatible API, see docs for next steps.\n"
          ]
        }
      ],
      "source": [
        "from google.colab import userdata\n",
        "from datetime import datetime\n",
        "from openai import OpenAI\n",
        "from minds.client import Client\n",
        "from minds.datasources import DatabaseConfig\n",
        "\n",
        "client = Client(userdata.get('minds_api_key'))\n",
        "\n",
        "postgres_config = DatabaseConfig(\n",
        "    name='my_data',\n",
        "    description='House sales data',\n",
        "    engine='postgres',\n",
        "    connection_data={\n",
        "        'user': 'demo_user',\n",
        "        'password': 'demo_password',\n",
        "        'host': 'samples.mindsdb.com',\n",
        "        'port': '5432',\n",
        "        'database': 'demo',\n",
        "        'schema': 'demo_data'\n",
        "    },\n",
        "    tables=['house_sales']\n",
        ")\n",
        "\n",
        "datasource = client.datasources.create(postgres_config, replace=True)\n",
        "\n",
        "mind = client.minds.create(name='my_mind', datasources=[datasource], replace=True)\n",
        "\n",
        "print(f\"{mind.name} was created successfully. You can now use this Mind using the OpenAI-compatible API, see docs for next steps.\")"
      ]
    },
    {
      "cell_type": "code",
      "source": [
        "# point the Openai SDK to the Minds Cloud\n",
        "client = OpenAI(\n",
        "    api_key=userdata.get('minds_api_key'),\n",
        "    base_url='https://llm.mdb.ai/'\n",
        ")\n",
        "\n",
        "thread = client.beta.threads.create()"
      ],
      "metadata": {
        "id": "0Nu7u1Vp7z7n"
      },
      "execution_count": null,
      "outputs": []
    },
    {
      "cell_type": "code",
      "source": [
        "# Add a message to a thread\n",
        "message = client.beta.threads.messages.create(\n",
        "    thread_id=thread.id,\n",
        "    role=\"user\",\n",
        "    content=\"How many 2-bedroom houses are on the market?\"\n",
        ")\n",
        "\n",
        "# run the message on the mind that you created\n",
        "run = client.beta.threads.runs.create_and_poll(\n",
        "    thread_id=thread.id,\n",
        "    assistant_id=mind.name\n",
        ")\n",
        "\n",
        "if run.status == 'completed':\n",
        "    messages = client.beta.threads.messages.list(\n",
        "      thread_id=thread.id\n",
        "    )\n",
        "    print(messages.data[1].role + ': ' + messages.data[1].content[0].text.value)\n",
        "    print(messages.data[0].role + ': ' + messages.data[0].content[0].text.value)\n",
        "else:\n",
        "    print(run.status)"
      ],
      "metadata": {
        "colab": {
          "base_uri": "https://localhost:8080/"
        },
        "id": "QNAA_LpD0j8_",
        "outputId": "3e953364-1a23-4cd6-9ab8-d930d227e92f"
      },
      "execution_count": null,
      "outputs": [
        {
          "output_type": "stream",
          "name": "stdout",
          "text": [
            "user: How many 2-bedroom houses are on the market?\n",
            "assistant: There are 99 two-bedroom houses currently on the market.\n",
            "\n",
            "If you have any other questions or need further assistance, feel free to ask!\n"
          ]
        }
      ]
    },
    {
      "cell_type": "code",
      "source": [
        "# Add a message to a thread\n",
        "message = client.beta.threads.messages.create(\n",
        "    thread_id=thread.id,\n",
        "    role=\"user\",\n",
        "    content=\"Which of them is the most expensive?\"\n",
        ")\n",
        "\n",
        "# run the message on the mind that you created\n",
        "run = client.beta.threads.runs.create_and_poll(\n",
        "    thread_id=thread.id,\n",
        "    assistant_id=mind.name\n",
        ")\n",
        "\n",
        "if run.status == 'completed':\n",
        "    messages = client.beta.threads.messages.list(\n",
        "      thread_id=thread.id\n",
        "    )\n",
        "    print(messages.data[1].role + ': ' + messages.data[1].content[0].text.value)\n",
        "    print(messages.data[0].role + ': ' + messages.data[0].content[0].text.value)\n",
        "else:\n",
        "    print(run.status)"
      ],
      "metadata": {
        "id": "kB9_D-G_0x_0",
        "colab": {
          "base_uri": "https://localhost:8080/"
        },
        "outputId": "fcb1ef39-871f-48dd-ec22-ec58ba640ff0"
      },
      "execution_count": null,
      "outputs": [
        {
          "output_type": "stream",
          "name": "stdout",
          "text": [
            "user: Which of them is the most expensive?\n",
            "assistant: The most expensive 2-bedroom house currently on the market is priced at $510,712. Here are the details:\n",
            "\n",
            "- **Sale Date:** 2019-09-30\n",
            "- **Price (ma):** $510,712\n",
            "- **Type:** House\n",
            "- **Bedrooms:** 2\n",
            "- **Created At:** 2007-02-06 05:27:08.378116\n",
            "\n",
            "If you have any other questions or need further assistance, feel free to ask!\n"
          ]
        }
      ]
    },
    {
      "cell_type": "code",
      "source": [
        "while True:\n",
        "    question = input(\"Ask a question (type 'exit' to quit): \")\n",
        "    if question.lower() == \"exit\":\n",
        "        break\n",
        "\n",
        "    if question:\n",
        "        message = client.beta.threads.messages.create(\n",
        "            thread_id=thread.id,\n",
        "            role=\"user\",\n",
        "            content=question\n",
        "        )\n",
        "\n",
        "        run = client.beta.threads.runs.create_and_poll(\n",
        "            thread_id=thread.id,\n",
        "            assistant_id=mind.name\n",
        "        )\n",
        "\n",
        "        if run.status == 'completed':\n",
        "            messages = client.beta.threads.messages.list(\n",
        "            thread_id=thread.id\n",
        "            )\n",
        "            print(messages.data[0].content[0].text.value)\n",
        "        else:\n",
        "            print(run.status)\n",
        "\n",
        "client.beta.threads.delete(thread.id)"
      ],
      "metadata": {
        "colab": {
          "base_uri": "https://localhost:8080/"
        },
        "id": "nd1a88DH1ExY",
        "outputId": "d2b056ff-be4f-49a8-9537-0dec0999d0b4"
      },
      "execution_count": null,
      "outputs": [
        {
          "name": "stdout",
          "output_type": "stream",
          "text": [
            "Ask a question (type 'exit' to quit): How many houses were sold in 2008?\n",
            "A total of 28 houses were sold in 2008.\n",
            "\n",
            "If you have any other questions or need further assistance, feel free to ask!\n",
            "Ask a question (type 'exit' to quit): What was the price and details of the most expensive one?\n",
            "The most expensive house sold in 2008 is priced at $764,025. Here are the details:\n",
            "\n",
            "- **Sale Date:** 2008-12-31\n",
            "- **Price (ma):** $764,025\n",
            "- **Type:** House\n",
            "- **Bedrooms:** 5\n",
            "- **Created At:** 2007-02-24 12:05:51.632879\n",
            "\n",
            "If you have any other questions or need further assistance, feel free to ask!\n",
            "Ask a question (type 'exit' to quit): exit\n"
          ]
        },
        {
          "output_type": "execute_result",
          "data": {
            "text/plain": [
              "ThreadDeleted(id='mdb_thread_10beee89a04640999a7ddc98b6f393f6', deleted=True, object='thread.deleted')"
            ]
          },
          "metadata": {},
          "execution_count": 7
        }
      ]
    }
  ]
}